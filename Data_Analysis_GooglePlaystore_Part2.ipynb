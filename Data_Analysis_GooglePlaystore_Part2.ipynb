{
 "cells": [
  {
   "cell_type": "code",
   "execution_count": 11,
   "id": "c2c5d0f5-b322-477c-a352-9cc14a171c6b",
   "metadata": {},
   "outputs": [],
   "source": [
    "import numpy as np\n",
    "import pandas as pd\n",
    "from sklearn.impute import SimpleImputer"
   ]
  },
  {
   "cell_type": "code",
   "execution_count": 12,
   "id": "de5665f4-43f7-49f2-82b1-12acd540035b",
   "metadata": {},
   "outputs": [],
   "source": [
    "df=pd.read_csv(r\"C:\\Users\\BIKRAM\\OneDrive\\Desktop\\Python Files\\googleplaystore.csv\")"
   ]
  },
  {
   "cell_type": "code",
   "execution_count": 13,
   "id": "38e15e7e-a70f-4003-88f8-8b3ad42e71bb",
   "metadata": {},
   "outputs": [
    {
     "data": {
      "text/html": [
       "<div>\n",
       "<style scoped>\n",
       "    .dataframe tbody tr th:only-of-type {\n",
       "        vertical-align: middle;\n",
       "    }\n",
       "\n",
       "    .dataframe tbody tr th {\n",
       "        vertical-align: top;\n",
       "    }\n",
       "\n",
       "    .dataframe thead th {\n",
       "        text-align: right;\n",
       "    }\n",
       "</style>\n",
       "<table border=\"1\" class=\"dataframe\">\n",
       "  <thead>\n",
       "    <tr style=\"text-align: right;\">\n",
       "      <th></th>\n",
       "      <th>App</th>\n",
       "      <th>Category</th>\n",
       "      <th>Rating</th>\n",
       "      <th>Reviews</th>\n",
       "      <th>Size</th>\n",
       "      <th>Installs</th>\n",
       "      <th>Type</th>\n",
       "      <th>Price</th>\n",
       "      <th>Content Rating</th>\n",
       "      <th>Genres</th>\n",
       "      <th>Last Updated</th>\n",
       "      <th>Current Ver</th>\n",
       "      <th>Android Ver</th>\n",
       "    </tr>\n",
       "  </thead>\n",
       "  <tbody>\n",
       "    <tr>\n",
       "      <th>0</th>\n",
       "      <td>Photo Editor &amp; Candy Camera &amp; Grid &amp; ScrapBook</td>\n",
       "      <td>ART_AND_DESIGN</td>\n",
       "      <td>4.1</td>\n",
       "      <td>159</td>\n",
       "      <td>19M</td>\n",
       "      <td>10,000+</td>\n",
       "      <td>Free</td>\n",
       "      <td>0</td>\n",
       "      <td>Everyone</td>\n",
       "      <td>Art &amp; Design</td>\n",
       "      <td>January 7, 2018</td>\n",
       "      <td>1.0.0</td>\n",
       "      <td>4.0.3 and up</td>\n",
       "    </tr>\n",
       "    <tr>\n",
       "      <th>1</th>\n",
       "      <td>Coloring book moana</td>\n",
       "      <td>ART_AND_DESIGN</td>\n",
       "      <td>3.9</td>\n",
       "      <td>967</td>\n",
       "      <td>14M</td>\n",
       "      <td>500,000+</td>\n",
       "      <td>Free</td>\n",
       "      <td>0</td>\n",
       "      <td>Everyone</td>\n",
       "      <td>Art &amp; Design;Pretend Play</td>\n",
       "      <td>January 15, 2018</td>\n",
       "      <td>2.0.0</td>\n",
       "      <td>4.0.3 and up</td>\n",
       "    </tr>\n",
       "    <tr>\n",
       "      <th>2</th>\n",
       "      <td>U Launcher Lite – FREE Live Cool Themes, Hide ...</td>\n",
       "      <td>ART_AND_DESIGN</td>\n",
       "      <td>4.7</td>\n",
       "      <td>87510</td>\n",
       "      <td>8.7M</td>\n",
       "      <td>5,000,000+</td>\n",
       "      <td>Free</td>\n",
       "      <td>0</td>\n",
       "      <td>Everyone</td>\n",
       "      <td>Art &amp; Design</td>\n",
       "      <td>August 1, 2018</td>\n",
       "      <td>1.2.4</td>\n",
       "      <td>4.0.3 and up</td>\n",
       "    </tr>\n",
       "    <tr>\n",
       "      <th>3</th>\n",
       "      <td>Sketch - Draw &amp; Paint</td>\n",
       "      <td>ART_AND_DESIGN</td>\n",
       "      <td>4.5</td>\n",
       "      <td>215644</td>\n",
       "      <td>25M</td>\n",
       "      <td>50,000,000+</td>\n",
       "      <td>Free</td>\n",
       "      <td>0</td>\n",
       "      <td>Teen</td>\n",
       "      <td>Art &amp; Design</td>\n",
       "      <td>June 8, 2018</td>\n",
       "      <td>Varies with device</td>\n",
       "      <td>4.2 and up</td>\n",
       "    </tr>\n",
       "    <tr>\n",
       "      <th>4</th>\n",
       "      <td>Pixel Draw - Number Art Coloring Book</td>\n",
       "      <td>ART_AND_DESIGN</td>\n",
       "      <td>4.3</td>\n",
       "      <td>967</td>\n",
       "      <td>2.8M</td>\n",
       "      <td>100,000+</td>\n",
       "      <td>Free</td>\n",
       "      <td>0</td>\n",
       "      <td>Everyone</td>\n",
       "      <td>Art &amp; Design;Creativity</td>\n",
       "      <td>June 20, 2018</td>\n",
       "      <td>1.1</td>\n",
       "      <td>4.4 and up</td>\n",
       "    </tr>\n",
       "  </tbody>\n",
       "</table>\n",
       "</div>"
      ],
      "text/plain": [
       "                                                 App        Category  Rating  \\\n",
       "0     Photo Editor & Candy Camera & Grid & ScrapBook  ART_AND_DESIGN     4.1   \n",
       "1                                Coloring book moana  ART_AND_DESIGN     3.9   \n",
       "2  U Launcher Lite – FREE Live Cool Themes, Hide ...  ART_AND_DESIGN     4.7   \n",
       "3                              Sketch - Draw & Paint  ART_AND_DESIGN     4.5   \n",
       "4              Pixel Draw - Number Art Coloring Book  ART_AND_DESIGN     4.3   \n",
       "\n",
       "  Reviews  Size     Installs  Type Price Content Rating  \\\n",
       "0     159   19M      10,000+  Free     0       Everyone   \n",
       "1     967   14M     500,000+  Free     0       Everyone   \n",
       "2   87510  8.7M   5,000,000+  Free     0       Everyone   \n",
       "3  215644   25M  50,000,000+  Free     0           Teen   \n",
       "4     967  2.8M     100,000+  Free     0       Everyone   \n",
       "\n",
       "                      Genres      Last Updated         Current Ver  \\\n",
       "0               Art & Design   January 7, 2018               1.0.0   \n",
       "1  Art & Design;Pretend Play  January 15, 2018               2.0.0   \n",
       "2               Art & Design    August 1, 2018               1.2.4   \n",
       "3               Art & Design      June 8, 2018  Varies with device   \n",
       "4    Art & Design;Creativity     June 20, 2018                 1.1   \n",
       "\n",
       "    Android Ver  \n",
       "0  4.0.3 and up  \n",
       "1  4.0.3 and up  \n",
       "2  4.0.3 and up  \n",
       "3    4.2 and up  \n",
       "4    4.4 and up  "
      ]
     },
     "execution_count": 13,
     "metadata": {},
     "output_type": "execute_result"
    }
   ],
   "source": [
    "df.head()"
   ]
  },
  {
   "cell_type": "markdown",
   "id": "1ee00445-79c0-4e39-925c-2ff49d9b8595",
   "metadata": {},
   "source": [
    "### Q1. How many free apps are there in ART_AND_DESIGN?"
   ]
  },
  {
   "cell_type": "code",
   "execution_count": 14,
   "id": "874a0169-e9f2-4173-9cf0-1ebea5f9adb9",
   "metadata": {},
   "outputs": [],
   "source": [
    "# df_pr=df[df[\"Category\"]=='ART_AND_DESIGN']\n",
    "# df_pr=df_pr[df_pr[\"Type\"]=='Free']\n",
    "# df_pr"
   ]
  },
  {
   "cell_type": "markdown",
   "id": "13f16521-79e0-49fc-8d50-6eadd46e0b8d",
   "metadata": {},
   "source": [
    "### Q2. How many apps are there in ART_AND_DESIGN with rating more then 4.5 sorted in ascending order?  "
   ]
  },
  {
   "cell_type": "code",
   "execution_count": 15,
   "id": "89766df7-f876-478c-83e2-45ea4759fb23",
   "metadata": {},
   "outputs": [],
   "source": [
    "# df_cal=df[df['Category']=='ART_AND_DESIGN']\n",
    "# df_cal[df_cal['Rating'] > 4.5 ].sort_values(by = 'Rating')\n",
    "# len(df_cal)"
   ]
  },
  {
   "cell_type": "markdown",
   "id": "67b38ed7-374c-4ffa-9edf-0d3cbd593b43",
   "metadata": {},
   "source": [
    "### Q3. How many apps are there in FAMILY with rating more then 4.5 and Free?"
   ]
  },
  {
   "cell_type": "code",
   "execution_count": 16,
   "id": "1c848de3-b368-4980-9c28-b590d74e44c7",
   "metadata": {},
   "outputs": [],
   "source": [
    "# df_pr=df[df['Category']=='FAMILY']\n",
    "# df_val=df_pr[df_pr['Rating'] > 4.5]\n",
    "# len(df_val[df_val['Type']=='Free'])"
   ]
  },
  {
   "cell_type": "markdown",
   "id": "a395f918-5d30-48eb-a1e5-7ffdb3af11f8",
   "metadata": {},
   "source": [
    "### Q4. List all the free apps with rating more then 4.5 and category is FAMILY?"
   ]
  },
  {
   "cell_type": "code",
   "execution_count": 19,
   "id": "98fc62f0-c76c-4a0d-9506-4270ec5b9704",
   "metadata": {},
   "outputs": [],
   "source": [
    "# df_cal=df[df['Type']=='Free']\n",
    "# df_val=df_cal[df_cal['Category']=='FAMILY']\n",
    "# len(df_val[df_val['Rating']>4.5].sort_values(by=\"Rating\"))\n",
    "# df_val['App']"
   ]
  },
  {
   "cell_type": "markdown",
   "id": "dd251ccb-552d-4bcc-95f4-d84a07c6c4f9",
   "metadata": {},
   "source": [
    "### Q5. Which category is having maximum average rating Descending order?"
   ]
  },
  {
   "cell_type": "code",
   "execution_count": 31,
   "id": "941df66d-af48-42c4-8b79-a7dde6027dae",
   "metadata": {},
   "outputs": [
    {
     "name": "stdout",
     "output_type": "stream",
     "text": [
      "Index(['App', 'Category', 'Rating', 'Reviews', 'Size', 'Installs', 'Type',\n",
      "       'Price', 'Content Rating', 'Genres', 'Last Updated', 'Current Ver',\n",
      "       'Android Ver'],\n",
      "      dtype='object')\n",
      "float64\n"
     ]
    },
    {
     "data": {
      "text/plain": [
       "Category\n",
       "1.9                    19.000000\n",
       "EVENTS                  4.435556\n",
       "EDUCATION               4.389032\n",
       "ART_AND_DESIGN          4.358065\n",
       "BOOKS_AND_REFERENCE     4.346067\n",
       "PERSONALIZATION         4.335987\n",
       "PARENTING               4.300000\n",
       "GAME                    4.286326\n",
       "BEAUTY                  4.278571\n",
       "HEALTH_AND_FITNESS      4.277104\n",
       "SHOPPING                4.259664\n",
       "SOCIAL                  4.255598\n",
       "WEATHER                 4.244000\n",
       "SPORTS                  4.223511\n",
       "PRODUCTIVITY            4.211396\n",
       "HOUSE_AND_HOME          4.197368\n",
       "FAMILY                  4.192272\n",
       "PHOTOGRAPHY             4.192114\n",
       "AUTO_AND_VEHICLES       4.190411\n",
       "MEDICAL                 4.189143\n",
       "LIBRARIES_AND_DEMO      4.178462\n",
       "FOOD_AND_DRINK          4.166972\n",
       "COMMUNICATION           4.158537\n",
       "COMICS                  4.155172\n",
       "NEWS_AND_MAGAZINES      4.132189\n",
       "FINANCE                 4.131889\n",
       "ENTERTAINMENT           4.126174\n",
       "BUSINESS                4.121452\n",
       "TRAVEL_AND_LOCAL        4.109292\n",
       "LIFESTYLE               4.094904\n",
       "VIDEO_PLAYERS           4.063750\n",
       "MAPS_AND_NAVIGATION     4.051613\n",
       "TOOLS                   4.047411\n",
       "DATING                  3.970769\n",
       "Name: Rating, dtype: float64"
      ]
     },
     "execution_count": 31,
     "metadata": {},
     "output_type": "execute_result"
    }
   ],
   "source": [
    "# First, let's verify the column names\n",
    "print(df.columns)\n",
    "\n",
    "# Check if 'Rating' column is numeric\n",
    "print(df['Rating'].dtype)\n",
    "\n",
    "# Assuming the column names and data types are correct\n",
    "df.groupby('Category')['Rating'].mean().sort_values(ascending=False)\n"
   ]
  },
  {
   "cell_type": "markdown",
   "id": "f48fb209-fd23-43ca-9302-a36bf5f727aa",
   "metadata": {},
   "source": [
    "### Q6. How many paid apps are there in each category in Descending Order?"
   ]
  },
  {
   "cell_type": "code",
   "execution_count": 27,
   "id": "787c04d8-9202-4751-aac8-0399970e87d6",
   "metadata": {},
   "outputs": [
    {
     "data": {
      "text/plain": [
       "Category\n",
       "FAMILY                 191\n",
       "MEDICAL                109\n",
       "GAME                    83\n",
       "PERSONALIZATION         83\n",
       "TOOLS                   78\n",
       "BOOKS_AND_REFERENCE     28\n",
       "PRODUCTIVITY            28\n",
       "COMMUNICATION           27\n",
       "SPORTS                  24\n",
       "PHOTOGRAPHY             22\n",
       "LIFESTYLE               19\n",
       "FINANCE                 17\n",
       "HEALTH_AND_FITNESS      16\n",
       "BUSINESS                14\n",
       "TRAVEL_AND_LOCAL        12\n",
       "WEATHER                  8\n",
       "DATING                   7\n",
       "MAPS_AND_NAVIGATION      5\n",
       "EDUCATION                4\n",
       "VIDEO_PLAYERS            4\n",
       "AUTO_AND_VEHICLES        3\n",
       "SOCIAL                   3\n",
       "ART_AND_DESIGN           3\n",
       "NEWS_AND_MAGAZINES       2\n",
       "PARENTING                2\n",
       "FOOD_AND_DRINK           2\n",
       "SHOPPING                 2\n",
       "ENTERTAINMENT            2\n",
       "LIBRARIES_AND_DEMO       1\n",
       "EVENTS                   1\n",
       "Name: Type, dtype: int64"
      ]
     },
     "execution_count": 27,
     "metadata": {},
     "output_type": "execute_result"
    }
   ],
   "source": [
    "df_pr = df[df['Type'] == 'Paid']\n",
    "\n",
    "df_pr.groupby('Category').count()['Type'].sort_values(ascending = False)\n"
   ]
  }
 ],
 "metadata": {
  "kernelspec": {
   "display_name": "Python 3 (ipykernel)",
   "language": "python",
   "name": "python3"
  },
  "language_info": {
   "codemirror_mode": {
    "name": "ipython",
    "version": 3
   },
   "file_extension": ".py",
   "mimetype": "text/x-python",
   "name": "python",
   "nbconvert_exporter": "python",
   "pygments_lexer": "ipython3",
   "version": "3.12.0b3"
  }
 },
 "nbformat": 4,
 "nbformat_minor": 5
}
